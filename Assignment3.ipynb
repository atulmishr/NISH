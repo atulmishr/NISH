{
 "cells": [
  {
   "cell_type": "code",
   "execution_count": 4,
   "metadata": {},
   "outputs": [],
   "source": [
    "#Ques1-conditional probability\n",
    "#P(A)=11/36\n",
    "#P(B)=6/36\n",
    "#P(A/B)=2/36\n",
    "#FUNCTION-\n",
    "def event_prob(AB,B,A):\n",
    "    BA=\"%.2f\"%((AB*B)/A)\n",
    "    print(\"P(B/A)\",Fraction(BA))\n"
   ]
  },
  {
   "cell_type": "code",
   "execution_count": 10,
   "metadata": {},
   "outputs": [],
   "source": [
    "#Ques2-\n",
    "#1st Bag contains a 4W & 6B Balls\n",
    "#2nd Bag contains a 4W & 3B Balls\n",
    "#Randomly 1ball is drawn from the one of the bags it'S black\n",
    "Bag1_Probablity= \"%.2f\"%((Black_1/Total_1)*(1/total_bag))\n",
    "\n",
    "print(Bag1_Probablity)\n",
    "\n",
    "Bag2_Probablity= \"%.2f\"%((Black_2/Total_2)*(1/total_bag))\n",
    "\n",
    "print(Bag2_Probablity)\n",
    "\n",
    "#probability from Bag1\n",
    "Event_Probablity=float(Bag1_Probablity)/(float(Bag1_Probablity)+float(Bag2_Probablity))\n",
    "\n",
    "print(Event_Probablity)"
   ]
  },
  {
   "cell_type": "code",
   "execution_count": null,
   "metadata": {},
   "outputs": [],
   "source": [
    "#Ques3-"
   ]
  },
  {
   "cell_type": "code",
   "execution_count": null,
   "metadata": {},
   "outputs": [],
   "source": []
  },
  {
   "cell_type": "code",
   "execution_count": null,
   "metadata": {},
   "outputs": [],
   "source": []
  }
 ],
 "metadata": {
  "kernelspec": {
   "display_name": "Python 2",
   "language": "python",
   "name": "python2"
  },
  "language_info": {
   "codemirror_mode": {
    "name": "ipython",
    "version": 2
   },
   "file_extension": ".py",
   "mimetype": "text/x-python",
   "name": "python",
   "nbconvert_exporter": "python",
   "pygments_lexer": "ipython2",
   "version": "2.7.14"
  }
 },
 "nbformat": 4,
 "nbformat_minor": 2
}
